{
 "cells": [
  {
   "cell_type": "code",
   "execution_count": 2,
   "id": "63233d1b",
   "metadata": {},
   "outputs": [],
   "source": [
    "import pandas as pd\n",
    "import sys\n",
    "sys.path.append(\"../src\")\n",
    "from preprocessing import clean_text\n",
    "from classifier import GPTJobDescriptionCategorizer\n",
    "import os"
   ]
  },
  {
   "cell_type": "code",
   "execution_count": 3,
   "id": "e0c2e782",
   "metadata": {},
   "outputs": [],
   "source": [
    "df = pd.read_csv(\"../Engineer_20230826.csv\")\n",
    "df['JobDescription'] = df['JobDescription'].apply(clean_text)"
   ]
  },
  {
   "cell_type": "code",
   "execution_count": 7,
   "id": "f7f87e3b",
   "metadata": {},
   "outputs": [
    {
     "name": "stdout",
     "output_type": "stream",
     "text": [
      "Loaded checkpoint with 160 processed postings\n",
      "Processing 340 postings sequentially...\n"
     ]
    },
    {
     "name": "stderr",
     "output_type": "stream",
     "text": [
      "Processing postings:  15%|█▍        | 50/340 [16:50<1:39:56, 20.68s/it]"
     ]
    },
    {
     "name": "stdout",
     "output_type": "stream",
     "text": [
      "\n",
      "Checkpoint saved at 50 postings\n"
     ]
    },
    {
     "name": "stderr",
     "output_type": "stream",
     "text": [
      "Processing postings:  29%|██▉       | 100/340 [33:20<1:25:54, 21.48s/it]"
     ]
    },
    {
     "name": "stdout",
     "output_type": "stream",
     "text": [
      "\n",
      "Checkpoint saved at 100 postings\n"
     ]
    },
    {
     "name": "stderr",
     "output_type": "stream",
     "text": [
      "Processing postings:  44%|████▍     | 150/340 [50:29<1:14:23, 23.49s/it]"
     ]
    },
    {
     "name": "stdout",
     "output_type": "stream",
     "text": [
      "\n",
      "Checkpoint saved at 150 postings\n"
     ]
    },
    {
     "name": "stderr",
     "output_type": "stream",
     "text": [
      "Processing postings:  59%|█████▉    | 200/340 [1:05:35<39:52, 17.09s/it]  "
     ]
    },
    {
     "name": "stdout",
     "output_type": "stream",
     "text": [
      "\n",
      "Checkpoint saved at 200 postings\n"
     ]
    },
    {
     "name": "stderr",
     "output_type": "stream",
     "text": [
      "Processing postings:  74%|███████▎  | 250/340 [1:39:28<27:56, 18.63s/it]    "
     ]
    },
    {
     "name": "stdout",
     "output_type": "stream",
     "text": [
      "\n",
      "Checkpoint saved at 250 postings\n"
     ]
    },
    {
     "name": "stderr",
     "output_type": "stream",
     "text": [
      "Processing postings:  88%|████████▊ | 300/340 [1:56:17<13:52, 20.81s/it]"
     ]
    },
    {
     "name": "stdout",
     "output_type": "stream",
     "text": [
      "\n",
      "Checkpoint saved at 300 postings\n"
     ]
    },
    {
     "name": "stderr",
     "output_type": "stream",
     "text": [
      "Processing postings: 100%|██████████| 340/340 [3:55:39<00:00, 41.59s/it]    \n"
     ]
    },
    {
     "name": "stdout",
     "output_type": "stream",
     "text": [
      "\n",
      "Processing complete!\n",
      "Successfully processed: 340\n",
      "Failed: 0\n",
      "Total sentences categorized: 21623\n"
     ]
    }
   ],
   "source": [
    "classifier = GPTJobDescriptionCategorizer(\n",
    "    job_postings_data=df, \n",
    "    n_samples=500\n",
    ")\n",
    "labelled_training_data = classifier.process_all_postings(\n",
    "    checkpoint_file=\"../data/gpt_classified_job_descriptions.csv\"\n",
    ")"
   ]
  }
 ],
 "metadata": {
  "kernelspec": {
   "display_name": "venv",
   "language": "python",
   "name": "python3"
  },
  "language_info": {
   "codemirror_mode": {
    "name": "ipython",
    "version": 3
   },
   "file_extension": ".py",
   "mimetype": "text/x-python",
   "name": "python",
   "nbconvert_exporter": "python",
   "pygments_lexer": "ipython3",
   "version": "3.12.4"
  }
 },
 "nbformat": 4,
 "nbformat_minor": 5
}
