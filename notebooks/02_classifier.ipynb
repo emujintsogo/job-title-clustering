{
 "cells": [
  {
   "cell_type": "markdown",
   "id": "74654eb1",
   "metadata": {},
   "source": [
    "# Job Description Sentence Categorizer\n",
    "\n",
    "This notebook demonstrates how we used GPT-5 nano to automatically label each sentence in a job posting as **Marketing**, **Description**, **Requirements**, or **Legal**.\n",
    "\n",
    "<!-- Note for us -- if we're only using this notebook for demo purposes, should we just clean and classify like 10 descriptions so it doesn't take forever to run? We can do the data processing in a different python file? -->"
   ]
  },
  {
   "cell_type": "markdown",
   "id": "8084b030",
   "metadata": {},
   "source": [
    "# Setup"
   ]
  },
  {
   "cell_type": "markdown",
   "id": "09e78171",
   "metadata": {},
   "source": [
    "### Imports"
   ]
  },
  {
   "cell_type": "code",
   "execution_count": 42,
   "id": "63233d1b",
   "metadata": {},
   "outputs": [],
   "source": [
    "import pandas as pd\n",
    "import sys\n",
    "import matplotlib as plt\n",
    "\n",
    "sys.path.append(\"../src\")\n",
    "from preprocessing import clean_text\n",
    "from classifier import GPTJobDescriptionClassifier\n",
    "from IPython.display import display"
   ]
  },
  {
   "cell_type": "markdown",
   "id": "a788ca08",
   "metadata": {},
   "source": [
    "### Load and Prepare Data"
   ]
  },
  {
   "cell_type": "code",
   "execution_count": 19,
   "id": "e0c2e782",
   "metadata": {},
   "outputs": [
    {
     "data": {
      "text/html": [
       "<div>\n",
       "<style scoped>\n",
       "    .dataframe tbody tr th:only-of-type {\n",
       "        vertical-align: middle;\n",
       "    }\n",
       "\n",
       "    .dataframe tbody tr th {\n",
       "        vertical-align: top;\n",
       "    }\n",
       "\n",
       "    .dataframe thead th {\n",
       "        text-align: right;\n",
       "    }\n",
       "</style>\n",
       "<table border=\"1\" class=\"dataframe\">\n",
       "  <thead>\n",
       "    <tr style=\"text-align: right;\">\n",
       "      <th></th>\n",
       "      <th>RequisitionID</th>\n",
       "      <th>OrigJobTitle</th>\n",
       "      <th>JobTitle</th>\n",
       "      <th>JobDescription</th>\n",
       "    </tr>\n",
       "  </thead>\n",
       "  <tbody>\n",
       "    <tr>\n",
       "      <th>0</th>\n",
       "      <td>NaN</td>\n",
       "      <td>Licensed Stationary Engineer</td>\n",
       "      <td>ENGINEER (all other)</td>\n",
       "      <td>Licensed Stationary Engineer Froedtert South K...</td>\n",
       "    </tr>\n",
       "    <tr>\n",
       "      <th>1</th>\n",
       "      <td>00000224907</td>\n",
       "      <td>Guidance Navigation and Control (GN&amp;C) Enginee...</td>\n",
       "      <td>ENGINEER (all other)</td>\n",
       "      <td>The Boeing Company is in search of a Lead Guid...</td>\n",
       "    </tr>\n",
       "    <tr>\n",
       "      <th>2</th>\n",
       "      <td>00000331804</td>\n",
       "      <td>Propulsion Engineer - Associate, Mid-Level and...</td>\n",
       "      <td>ENGINEER (all other)</td>\n",
       "      <td>Job Description At Boeing, we innovate and col...</td>\n",
       "    </tr>\n",
       "  </tbody>\n",
       "</table>\n",
       "</div>"
      ],
      "text/plain": [
       "  RequisitionID                                       OrigJobTitle  \\\n",
       "0           NaN                       Licensed Stationary Engineer   \n",
       "1   00000224907  Guidance Navigation and Control (GN&C) Enginee...   \n",
       "2   00000331804  Propulsion Engineer - Associate, Mid-Level and...   \n",
       "\n",
       "               JobTitle                                     JobDescription  \n",
       "0  ENGINEER (all other)  Licensed Stationary Engineer Froedtert South K...  \n",
       "1  ENGINEER (all other)  The Boeing Company is in search of a Lead Guid...  \n",
       "2  ENGINEER (all other)  Job Description At Boeing, we innovate and col...  "
      ]
     },
     "execution_count": 19,
     "metadata": {},
     "output_type": "execute_result"
    }
   ],
   "source": [
    "# Load dataset\n",
    "df = pd.read_csv(\"../Engineer_20230826.csv\")\n",
    "\n",
    "# Drop JobTitle column because it has the same value for all entries and therefore no predictive value\n",
    "# df = df[[\"RequisitionID\", \"OrigJobTitle\", \"JobDescription\"]].dropna()\n",
    "\n",
    "# Clean text\n",
    "df['JobDescription'] = df['JobDescription'].apply(clean_text)\n",
    "\n",
    "df.head(3)"
   ]
  },
  {
   "cell_type": "markdown",
   "id": "69ef8f25",
   "metadata": {},
   "source": [
    "## Initialize Classifier"
   ]
  },
  {
   "cell_type": "markdown",
   "id": "a061e92c",
   "metadata": {},
   "source": [
    "Let's run our job description classifier on 500 samples from our dataset."
   ]
  },
  {
   "cell_type": "code",
   "execution_count": 20,
   "id": "f7f87e3b",
   "metadata": {},
   "outputs": [],
   "source": [
    "classifier = GPTJobDescriptionClassifier(job_postings_data=df, n_samples=1)\n",
    "res = classifier.process_random_postings()"
   ]
  },
  {
   "cell_type": "markdown",
   "id": "d46ce0d2",
   "metadata": {},
   "source": [
    "You can see the exact prompt that we give GPT-5 for some arbitrary job post we selected:"
   ]
  },
  {
   "cell_type": "code",
   "execution_count": 21,
   "id": "5ad9e017",
   "metadata": {},
   "outputs": [
    {
     "name": "stdout",
     "output_type": "stream",
     "text": [
      "\n",
      "Analyze the following job posting and categorize each sentence into one of these four categories:\n",
      "- Marketing: Sentences that sell the company, highlight benefits, or promote the organization\n",
      "- Description: Sentences describing job duties, responsibilities, and day-to-day work\n",
      "- Requirements: Sentences listing qualifications, skills, experience, or education needed\n",
      "- Legal: Sentences about EEO statements, compliance, disclaimers, or legal notices\n",
      "\n",
      "Job Posting:\n",
      "Licensed Stationary Engineer Froedtert South Kenosha, WI (Onsite) Full-Time Apply on company site Job Details + POSITION PURPOSE + Duties consist of checking equipment and facilities for proper operation of HVAC systems, pumps, electrical distribution and other essential systems throughout the hospital. Duties also include the repai\n"
     ]
    }
   ],
   "source": [
    "sample_post = df.iloc[0][\"JobDescription\"]\n",
    "print(classifier.build_prompt(sample_post)[:800])"
   ]
  },
  {
   "cell_type": "markdown",
   "id": "21235b1a",
   "metadata": {},
   "source": [
    "## Explore Results"
   ]
  },
  {
   "cell_type": "markdown",
   "id": "05a45944",
   "metadata": {},
   "source": [
    "Our results are formatted in a table with 4 columns:\n",
    "- Sentence - copies the exact sentence from the job description\n",
    "- Category - which of the 4 categories (Marketing, Description, Requirement, Legal) our classifier categorized it as.\n",
    "- Kept the original columns RequisitionID and JobTitle \n",
    "<!-- note for future self -- change this to OrigJobTitle because that would be more useful than JobTitle -->"
   ]
  },
  {
   "cell_type": "code",
   "execution_count": 31,
   "id": "ec69281e",
   "metadata": {},
   "outputs": [
    {
     "name": "stdout",
     "output_type": "stream",
     "text": [
      "['sentence', 'category', 'RequisitionID', 'JobTitle']\n"
     ]
    },
    {
     "data": {
      "text/html": [
       "<div>\n",
       "<style scoped>\n",
       "    .dataframe tbody tr th:only-of-type {\n",
       "        vertical-align: middle;\n",
       "    }\n",
       "\n",
       "    .dataframe tbody tr th {\n",
       "        vertical-align: top;\n",
       "    }\n",
       "\n",
       "    .dataframe thead th {\n",
       "        text-align: right;\n",
       "    }\n",
       "</style>\n",
       "<table border=\"1\" class=\"dataframe\">\n",
       "  <thead>\n",
       "    <tr style=\"text-align: right;\">\n",
       "      <th></th>\n",
       "      <th>sentence</th>\n",
       "      <th>category</th>\n",
       "      <th>RequisitionID</th>\n",
       "      <th>JobTitle</th>\n",
       "    </tr>\n",
       "  </thead>\n",
       "  <tbody>\n",
       "    <tr>\n",
       "      <th>0</th>\n",
       "      <td>In a world of possibilities, pursue one with e...</td>\n",
       "      <td>Marketing</td>\n",
       "      <td>R144333</td>\n",
       "      <td>ENGINEER (all other)</td>\n",
       "    </tr>\n",
       "    <tr>\n",
       "      <th>1</th>\n",
       "      <td>Imagine Next!</td>\n",
       "      <td>Marketing</td>\n",
       "      <td>R144333</td>\n",
       "      <td>ENGINEER (all other)</td>\n",
       "    </tr>\n",
       "    <tr>\n",
       "      <th>2</th>\n",
       "      <td>When it comes to what you want in your career,...</td>\n",
       "      <td>Marketing</td>\n",
       "      <td>R144333</td>\n",
       "      <td>ENGINEER (all other)</td>\n",
       "    </tr>\n",
       "    <tr>\n",
       "      <th>3</th>\n",
       "      <td>Imagine a career working with intelligent, div...</td>\n",
       "      <td>Marketing</td>\n",
       "      <td>R144333</td>\n",
       "      <td>ENGINEER (all other)</td>\n",
       "    </tr>\n",
       "    <tr>\n",
       "      <th>4</th>\n",
       "      <td>Imagine a workplace where you can be yourself.</td>\n",
       "      <td>Marketing</td>\n",
       "      <td>R144333</td>\n",
       "      <td>ENGINEER (all other)</td>\n",
       "    </tr>\n",
       "  </tbody>\n",
       "</table>\n",
       "</div>"
      ],
      "text/plain": [
       "                                            sentence   category RequisitionID  \\\n",
       "0  In a world of possibilities, pursue one with e...  Marketing       R144333   \n",
       "1                                      Imagine Next!  Marketing       R144333   \n",
       "2  When it comes to what you want in your career,...  Marketing       R144333   \n",
       "3  Imagine a career working with intelligent, div...  Marketing       R144333   \n",
       "4     Imagine a workplace where you can be yourself.  Marketing       R144333   \n",
       "\n",
       "               JobTitle  \n",
       "0  ENGINEER (all other)  \n",
       "1  ENGINEER (all other)  \n",
       "2  ENGINEER (all other)  \n",
       "3  ENGINEER (all other)  \n",
       "4  ENGINEER (all other)  "
      ]
     },
     "execution_count": 31,
     "metadata": {},
     "output_type": "execute_result"
    }
   ],
   "source": [
    "print(list(res.columns))\n",
    "\n",
    "res.head()"
   ]
  },
  {
   "cell_type": "markdown",
   "id": "5a103b12",
   "metadata": {},
   "source": [
    "## Isolate a Single Job Description"
   ]
  },
  {
   "cell_type": "code",
   "execution_count": 44,
   "id": "276d167f",
   "metadata": {},
   "outputs": [
    {
     "name": "stdout",
     "output_type": "stream",
     "text": [
      "Licensed Stationary Engineer Froedtert South Kenosha, WI (Onsite) Full-Time Apply on company site Job Details + POSITION PURPOSE + Duties consist of checking equipment and facilities for proper operation of HVAC systems, pumps, electrical distribution and other essential systems throughout the hospital. Duties also include the repair and maintenance of the systems. It requires frequent and consistent walking through different mechanical equipment rooms, going up and down stairs, ladders, and ramps. + MINIMUM EDUCATION REQUIRED + High School plus specialized training (6 mons-2 yrs) + MINIMUM EXPERIENCE REQUIRED + 1 to 3 years + LICENSES / CERTIFICATIONS REQUIRED + Graduate of a trade or vocational school with courses pertinent to the job duties preferred. + Licensure to be eligible to practice as a Licensed Stationary Engineer from the National Institute of Power Engineers (NIPE) or from the American Society of Power Engineers or the ability to obtain licensure within 12 months of hire. + KNOWLEDGE, SKILLS & ABILITIES REQUIRED + Must be familiar with hand tools and power tools. + Must have three to six (3-6) months of job training or equivalent military training. + Ability to read, write, speak, hear, and comprehend the English language. + Must be able to interpret and understand water treatment and treatment chemical levels. + Manual dexterity is required to perform repairs and maintenance. + PRINCIPLE ACCOUNTABILITIES AND ESSENTIAL DUTIES + Performs preventive maintenance and equipment repair on various systems throughout the hospital, which vary in complexity and skill. Must be able to read English and schematic diagrams in order to troubleshoot and understand systems. Must be able to lift heavy objects of 75 pounds above head and with arms fully extended. + Interprets gauges and readings on various equipment control panels in order to adjust temperatures and settings to the proper levels and conditions. Must also be able to interpret results of chemical water test and appropriate amounts of chemicals to maintain the preset balance. + Performs maintenance duties as a fill-in function on off shift hours and provides duties as assigned by priority. Froedtert South is a comprehensive regional healthcare system that has served southeastern Wisconsin and northern Illinois communities for more than 100 years. Froedtert South provides services primarily through the Froedtert Kenosha Hospital and the Froedtert Pleasant Prairie Hospital and several other clinic locations. Froedtert South is an Equal Opportunity Employer. Froedtert South does not discriminate on the basis of race, religion, color, sex, gender identity, sexual orientation, age, non-disqualifying physical or mental disability, national origin, veteran status or any other basis covered by appropriate law. All employment decisions are made on the basis of qualifications, merit, and business need. Get job alerts by email. Sign up now! Join Our Talent Network! Job Snapshot Job Type Facility Support Services\n"
     ]
    },
    {
     "data": {
      "text/html": [
       "<style type=\"text/css\">\n",
       "#T_49035_row0_col0, #T_49035_row0_col1, #T_49035_row1_col0, #T_49035_row1_col1, #T_49035_row2_col0, #T_49035_row2_col1, #T_49035_row10_col0, #T_49035_row10_col1, #T_49035_row11_col0, #T_49035_row11_col1, #T_49035_row12_col0, #T_49035_row12_col1, #T_49035_row13_col0, #T_49035_row13_col1, #T_49035_row14_col0, #T_49035_row14_col1, #T_49035_row15_col0, #T_49035_row15_col1 {\n",
       "  background-color: #dfffd0;\n",
       "}\n",
       "#T_49035_row3_col0, #T_49035_row3_col1, #T_49035_row4_col0, #T_49035_row4_col1, #T_49035_row5_col0, #T_49035_row5_col1, #T_49035_row6_col0, #T_49035_row6_col1, #T_49035_row7_col0, #T_49035_row7_col1, #T_49035_row8_col0, #T_49035_row8_col1, #T_49035_row9_col0, #T_49035_row9_col1 {\n",
       "  background-color: #fffacd;\n",
       "}\n",
       "#T_49035_row16_col0, #T_49035_row16_col1, #T_49035_row17_col0, #T_49035_row17_col1, #T_49035_row21_col0, #T_49035_row21_col1, #T_49035_row22_col0, #T_49035_row22_col1, #T_49035_row23_col0, #T_49035_row23_col1 {\n",
       "  background-color: #d0e7ff;\n",
       "}\n",
       "#T_49035_row18_col0, #T_49035_row18_col1, #T_49035_row19_col0, #T_49035_row19_col1, #T_49035_row20_col0, #T_49035_row20_col1 {\n",
       "  background-color: #ffd9d9;\n",
       "}\n",
       "</style>\n",
       "<table id=\"T_49035\">\n",
       "  <thead>\n",
       "    <tr>\n",
       "      <th class=\"blank level0\" >&nbsp;</th>\n",
       "      <th id=\"T_49035_level0_col0\" class=\"col_heading level0 col0\" >sentence</th>\n",
       "      <th id=\"T_49035_level0_col1\" class=\"col_heading level0 col1\" >category</th>\n",
       "    </tr>\n",
       "  </thead>\n",
       "  <tbody>\n",
       "    <tr>\n",
       "      <th id=\"T_49035_level0_row0\" class=\"row_heading level0 row0\" >0</th>\n",
       "      <td id=\"T_49035_row0_col0\" class=\"data row0 col0\" >Duties consist of checking equipment and facilities for proper operation of HVAC systems, pumps, electrical distribution and other essential systems throughout the hospital.</td>\n",
       "      <td id=\"T_49035_row0_col1\" class=\"data row0 col1\" >Description</td>\n",
       "    </tr>\n",
       "    <tr>\n",
       "      <th id=\"T_49035_level0_row1\" class=\"row_heading level0 row1\" >1</th>\n",
       "      <td id=\"T_49035_row1_col0\" class=\"data row1 col0\" >Duties also include the repair and maintenance of the systems.</td>\n",
       "      <td id=\"T_49035_row1_col1\" class=\"data row1 col1\" >Description</td>\n",
       "    </tr>\n",
       "    <tr>\n",
       "      <th id=\"T_49035_level0_row2\" class=\"row_heading level0 row2\" >2</th>\n",
       "      <td id=\"T_49035_row2_col0\" class=\"data row2 col0\" >It requires frequent and consistent walking through different mechanical equipment rooms, going up and down stairs, ladders, and ramps.</td>\n",
       "      <td id=\"T_49035_row2_col1\" class=\"data row2 col1\" >Description</td>\n",
       "    </tr>\n",
       "    <tr>\n",
       "      <th id=\"T_49035_level0_row3\" class=\"row_heading level0 row3\" >3</th>\n",
       "      <td id=\"T_49035_row3_col0\" class=\"data row3 col0\" >Graduate of a trade or vocational school with courses pertinent to the job duties preferred.</td>\n",
       "      <td id=\"T_49035_row3_col1\" class=\"data row3 col1\" >Requirements</td>\n",
       "    </tr>\n",
       "    <tr>\n",
       "      <th id=\"T_49035_level0_row4\" class=\"row_heading level0 row4\" >4</th>\n",
       "      <td id=\"T_49035_row4_col0\" class=\"data row4 col0\" >Licensure to be eligible to practice as a Licensed Stationary Engineer from the National Institute of Power Engineers (NIPE) or from the American Society of Power Engineers or the ability to obtain licensure within 12 months of hire.</td>\n",
       "      <td id=\"T_49035_row4_col1\" class=\"data row4 col1\" >Requirements</td>\n",
       "    </tr>\n",
       "    <tr>\n",
       "      <th id=\"T_49035_level0_row5\" class=\"row_heading level0 row5\" >5</th>\n",
       "      <td id=\"T_49035_row5_col0\" class=\"data row5 col0\" >Must be familiar with hand tools and power tools.</td>\n",
       "      <td id=\"T_49035_row5_col1\" class=\"data row5 col1\" >Requirements</td>\n",
       "    </tr>\n",
       "    <tr>\n",
       "      <th id=\"T_49035_level0_row6\" class=\"row_heading level0 row6\" >6</th>\n",
       "      <td id=\"T_49035_row6_col0\" class=\"data row6 col0\" >Must have three to six (3-6) months of job training or equivalent military training.</td>\n",
       "      <td id=\"T_49035_row6_col1\" class=\"data row6 col1\" >Requirements</td>\n",
       "    </tr>\n",
       "    <tr>\n",
       "      <th id=\"T_49035_level0_row7\" class=\"row_heading level0 row7\" >7</th>\n",
       "      <td id=\"T_49035_row7_col0\" class=\"data row7 col0\" >Ability to read, write, speak, hear, and comprehend the English language.</td>\n",
       "      <td id=\"T_49035_row7_col1\" class=\"data row7 col1\" >Requirements</td>\n",
       "    </tr>\n",
       "    <tr>\n",
       "      <th id=\"T_49035_level0_row8\" class=\"row_heading level0 row8\" >8</th>\n",
       "      <td id=\"T_49035_row8_col0\" class=\"data row8 col0\" >Must be able to interpret and understand water treatment and treatment chemical levels.</td>\n",
       "      <td id=\"T_49035_row8_col1\" class=\"data row8 col1\" >Requirements</td>\n",
       "    </tr>\n",
       "    <tr>\n",
       "      <th id=\"T_49035_level0_row9\" class=\"row_heading level0 row9\" >9</th>\n",
       "      <td id=\"T_49035_row9_col0\" class=\"data row9 col0\" >Manual dexterity is required to perform repairs and maintenance.</td>\n",
       "      <td id=\"T_49035_row9_col1\" class=\"data row9 col1\" >Requirements</td>\n",
       "    </tr>\n",
       "    <tr>\n",
       "      <th id=\"T_49035_level0_row10\" class=\"row_heading level0 row10\" >10</th>\n",
       "      <td id=\"T_49035_row10_col0\" class=\"data row10 col0\" >Performs preventive maintenance and equipment repair on various systems throughout the hospital, which vary in complexity and skill.</td>\n",
       "      <td id=\"T_49035_row10_col1\" class=\"data row10 col1\" >Description</td>\n",
       "    </tr>\n",
       "    <tr>\n",
       "      <th id=\"T_49035_level0_row11\" class=\"row_heading level0 row11\" >11</th>\n",
       "      <td id=\"T_49035_row11_col0\" class=\"data row11 col0\" >Must be able to read English and schematic diagrams in order to troubleshoot and understand systems.</td>\n",
       "      <td id=\"T_49035_row11_col1\" class=\"data row11 col1\" >Description</td>\n",
       "    </tr>\n",
       "    <tr>\n",
       "      <th id=\"T_49035_level0_row12\" class=\"row_heading level0 row12\" >12</th>\n",
       "      <td id=\"T_49035_row12_col0\" class=\"data row12 col0\" >Must be able to lift heavy objects of 75 pounds above head and with arms fully extended.</td>\n",
       "      <td id=\"T_49035_row12_col1\" class=\"data row12 col1\" >Description</td>\n",
       "    </tr>\n",
       "    <tr>\n",
       "      <th id=\"T_49035_level0_row13\" class=\"row_heading level0 row13\" >13</th>\n",
       "      <td id=\"T_49035_row13_col0\" class=\"data row13 col0\" >Interprets gauges and readings on various equipment control panels in order to adjust temperatures and settings to the proper levels and conditions.</td>\n",
       "      <td id=\"T_49035_row13_col1\" class=\"data row13 col1\" >Description</td>\n",
       "    </tr>\n",
       "    <tr>\n",
       "      <th id=\"T_49035_level0_row14\" class=\"row_heading level0 row14\" >14</th>\n",
       "      <td id=\"T_49035_row14_col0\" class=\"data row14 col0\" >Must also be able to interpret results of chemical water test and appropriate amounts of chemicals to maintain the preset balance.</td>\n",
       "      <td id=\"T_49035_row14_col1\" class=\"data row14 col1\" >Description</td>\n",
       "    </tr>\n",
       "    <tr>\n",
       "      <th id=\"T_49035_level0_row15\" class=\"row_heading level0 row15\" >15</th>\n",
       "      <td id=\"T_49035_row15_col0\" class=\"data row15 col0\" >Performs maintenance duties as a fill-in function on off shift hours and provides duties as assigned by priority.</td>\n",
       "      <td id=\"T_49035_row15_col1\" class=\"data row15 col1\" >Description</td>\n",
       "    </tr>\n",
       "    <tr>\n",
       "      <th id=\"T_49035_level0_row16\" class=\"row_heading level0 row16\" >16</th>\n",
       "      <td id=\"T_49035_row16_col0\" class=\"data row16 col0\" >Froedtert South is a comprehensive regional healthcare system that has served southeastern Wisconsin and northern Illinois communities for more than 100 years.</td>\n",
       "      <td id=\"T_49035_row16_col1\" class=\"data row16 col1\" >Marketing</td>\n",
       "    </tr>\n",
       "    <tr>\n",
       "      <th id=\"T_49035_level0_row17\" class=\"row_heading level0 row17\" >17</th>\n",
       "      <td id=\"T_49035_row17_col0\" class=\"data row17 col0\" >Froedtert South provides services primarily through the Froedtert Kenosha Hospital and the Froedtert Pleasant Prairie Hospital and several other clinic locations.</td>\n",
       "      <td id=\"T_49035_row17_col1\" class=\"data row17 col1\" >Marketing</td>\n",
       "    </tr>\n",
       "    <tr>\n",
       "      <th id=\"T_49035_level0_row18\" class=\"row_heading level0 row18\" >18</th>\n",
       "      <td id=\"T_49035_row18_col0\" class=\"data row18 col0\" >Froedtert South is an Equal Opportunity Employer.</td>\n",
       "      <td id=\"T_49035_row18_col1\" class=\"data row18 col1\" >Legal</td>\n",
       "    </tr>\n",
       "    <tr>\n",
       "      <th id=\"T_49035_level0_row19\" class=\"row_heading level0 row19\" >19</th>\n",
       "      <td id=\"T_49035_row19_col0\" class=\"data row19 col0\" >Froedtert South does not discriminate on the basis of race, religion, color, sex, gender identity, sexual orientation, age, non-disqualifying physical or mental disability, national origin, veteran status or any other basis covered by appropriate law.</td>\n",
       "      <td id=\"T_49035_row19_col1\" class=\"data row19 col1\" >Legal</td>\n",
       "    </tr>\n",
       "    <tr>\n",
       "      <th id=\"T_49035_level0_row20\" class=\"row_heading level0 row20\" >20</th>\n",
       "      <td id=\"T_49035_row20_col0\" class=\"data row20 col0\" >All employment decisions are made on the basis of qualifications, merit, and business need.</td>\n",
       "      <td id=\"T_49035_row20_col1\" class=\"data row20 col1\" >Legal</td>\n",
       "    </tr>\n",
       "    <tr>\n",
       "      <th id=\"T_49035_level0_row21\" class=\"row_heading level0 row21\" >21</th>\n",
       "      <td id=\"T_49035_row21_col0\" class=\"data row21 col0\" >Get job alerts by email.</td>\n",
       "      <td id=\"T_49035_row21_col1\" class=\"data row21 col1\" >Marketing</td>\n",
       "    </tr>\n",
       "    <tr>\n",
       "      <th id=\"T_49035_level0_row22\" class=\"row_heading level0 row22\" >22</th>\n",
       "      <td id=\"T_49035_row22_col0\" class=\"data row22 col0\" >Sign up now!</td>\n",
       "      <td id=\"T_49035_row22_col1\" class=\"data row22 col1\" >Marketing</td>\n",
       "    </tr>\n",
       "    <tr>\n",
       "      <th id=\"T_49035_level0_row23\" class=\"row_heading level0 row23\" >23</th>\n",
       "      <td id=\"T_49035_row23_col0\" class=\"data row23 col0\" >Join Our Talent Network!</td>\n",
       "      <td id=\"T_49035_row23_col1\" class=\"data row23 col1\" >Marketing</td>\n",
       "    </tr>\n",
       "  </tbody>\n",
       "</table>\n"
      ],
      "text/plain": [
       "<pandas.io.formats.style.Styler at 0x1188c87d0>"
      ]
     },
     "execution_count": 44,
     "metadata": {},
     "output_type": "execute_result"
    }
   ],
   "source": [
    "single_posting = df.iloc[0]\n",
    "\n",
    "# Display the job description\n",
    "print(single_posting[\"JobDescription\"])\n",
    "\n",
    "# Categorize the posting\n",
    "categorized_df = classifier.categorize_posting(single_posting)\n",
    "\n",
    "# Define lighter, readable colors\n",
    "category_colors = {\n",
    "    \"Marketing\": \"#d0e7ff\",      # very light blue\n",
    "    \"Description\": \"#dfffd0\",    # very light green\n",
    "    \"Requirements\": \"#fffacd\",   # light yellow (like lemon chiffon)\n",
    "    \"Legal\": \"#ffd9d9\"           # very light red/pink\n",
    "}\n",
    "\n",
    "# Apply styling with readable colors\n",
    "def color_rows(row):\n",
    "    return ['background-color: {}'.format(category_colors.get(row['category'], '#ffffff'))]*len(row)\n",
    "\n",
    "styled_df = categorized_df[['sentence', 'category']].style.apply(color_rows, axis=1)\n",
    "styled_df"
   ]
  },
  {
   "cell_type": "markdown",
   "id": "94a9ff7b",
   "metadata": {},
   "source": [
    "Let's see what percentage of sentences fall into the 4 categories:"
   ]
  },
  {
   "cell_type": "code",
   "execution_count": 38,
   "id": "c3d04296",
   "metadata": {},
   "outputs": [
    {
     "data": {
      "text/plain": [
       "[Text(0, 0, 'Marketing'),\n",
       " Text(1, 0, 'Description'),\n",
       " Text(2, 0, 'Requirements'),\n",
       " Text(3, 0, 'Legal')]"
      ]
     },
     "execution_count": 38,
     "metadata": {},
     "output_type": "execute_result"
    },
    {
     "data": {
      "image/png": "[encoded data removed]",
      "text/plain": [
       "<Figure size 600x400 with 1 Axes>"
      ]
     },
     "metadata": {},
     "output_type": "display_data"
    }
   ],
   "source": [
    "# Count of sentences per category\n",
    "category_counts = res[\"category\"].value_counts(normalize=True) * 100  # convert to percentages\n",
    "\n",
    "ax = category_counts.plot(\n",
    "    kind=\"bar\",\n",
    "    title=\"Sentence Category Distribution\",\n",
    "    figsize=(6, 4),\n",
    "    color=\"skyblue\",\n",
    "    edgecolor=\"black\"\n",
    ")\n",
    "\n",
    "ax.set_xlabel(\"Category\", fontsize=12)\n",
    "ax.set_ylabel(\"Percentage of Sentences\", fontsize=12)\n",
    "ax.set_xticklabels(ax.get_xticklabels(), rotation=45, ha=\"right\")"
   ]
  },
  {
   "cell_type": "code",
   "execution_count": null,
   "id": "ca0801f3",
   "metadata": {},
   "outputs": [],
   "source": []
  }
 ],
 "metadata": {
  "kernelspec": {
   "display_name": "venv (3.13.1)",
   "language": "python",
   "name": "python3"
  },
  "language_info": {
   "codemirror_mode": {
    "name": "ipython",
    "version": 3
   },
   "file_extension": ".py",
   "mimetype": "text/x-python",
   "name": "python",
   "nbconvert_exporter": "python",
   "pygments_lexer": "ipython3",
   "version": "3.13.1"
  }
 },
 "nbformat": 4,
 "nbformat_minor": 5
}
