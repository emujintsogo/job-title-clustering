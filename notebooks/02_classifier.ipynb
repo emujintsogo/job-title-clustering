{
 "cells": [
  {
   "cell_type": "code",
   "execution_count": 2,
   "id": "63233d1b",
   "metadata": {},
   "outputs": [],
   "source": [
    "import pandas as pd\n",
    "import sys\n",
    "sys.path.append(\"../src\")\n",
    "from preprocessing import clean_text\n",
    "from classifier import GPTJobDescriptionCategorizer\n",
    "import os"
   ]
  },
  {
   "cell_type": "code",
   "execution_count": 2,
   "id": "e0c2e782",
   "metadata": {},
   "outputs": [],
   "source": [
    "df = pd.read_csv(\"../Engineer_20230826.csv\")\n",
    "df['JobDescription'] = df['JobDescription'].apply(clean_text)"
   ]
  },
  {
   "cell_type": "code",
   "execution_count": null,
   "id": "f7f87e3b",
   "metadata": {},
   "outputs": [
    {
     "name": "stdout",
     "output_type": "stream",
     "text": [
      "Processing posting 5201/500\n",
      "Error calling GPT: Connection error.\n",
      "Error calling GPT: Connection error.\n",
      "Error calling GPT: Connection error.\n",
      "Processing posting 3001/500\n",
      "Processing posting 8301/500\n",
      "Error calling GPT: Connection error.\n",
      "Error calling GPT: Connection error.\n",
      "Error calling GPT: Connection error.\n",
      "Error calling GPT: Connection error.\n",
      "Error calling GPT: Connection error.\n",
      "Error calling GPT: Connection error.\n",
      "Error calling GPT: Connection error.\n",
      "Error calling GPT: Connection error.\n",
      "Processing posting 2601/500\n",
      "Error calling GPT: Connection error.\n",
      "Error calling GPT: Connection error.\n",
      "Error calling GPT: Connection error.\n",
      "Error calling GPT: Connection error.\n",
      "Error calling GPT: Connection error.\n",
      "Error calling GPT: Connection error.\n",
      "Error calling GPT: Connection error.\n",
      "Error calling GPT: Connection error.\n",
      "Error calling GPT: Connection error.\n",
      "Error calling GPT: Connection error.\n",
      "Error calling GPT: Connection error.\n",
      "Error calling GPT: Connection error.\n",
      "Error calling GPT: Connection error.\n",
      "Error calling GPT: Connection error.\n",
      "Error calling GPT: Connection error.\n",
      "Error calling GPT: Connection error.\n",
      "Error calling GPT: Connection error.\n",
      "Error calling GPT: Connection error.\n",
      "Error calling GPT: Connection error.\n",
      "Error calling GPT: Connection error.\n",
      "Error calling GPT: Connection error.\n",
      "Error calling GPT: Connection error.\n",
      "Error calling GPT: Connection error.\n",
      "Error calling GPT: Connection error.\n",
      "Error calling GPT: Connection error.\n",
      "Error calling GPT: Connection error.\n",
      "Error calling GPT: Connection error.\n",
      "Error calling GPT: Connection error.\n",
      "Error calling GPT: Connection error.\n",
      "Error calling GPT: Connection error.\n",
      "Error calling GPT: Connection error.\n",
      "Error calling GPT: Connection error.\n",
      "Error calling GPT: Connection error.\n",
      "Error calling GPT: Connection error.\n",
      "Error calling GPT: Connection error.\n",
      "Error calling GPT: Connection error.\n",
      "Error calling GPT: Connection error.\n",
      "Error calling GPT: Connection error.\n",
      "Error calling GPT: Connection error.\n",
      "Error calling GPT: Connection error.\n",
      "Processing posting 14251/500\n",
      "Processing posting 17101/500\n",
      "Processing posting 3651/500\n",
      "Processing posting 6751/500\n"
     ]
    }
   ],
   "source": [
    "classifier = GPTJobDescriptionCategorizer(job_postings_data=df, n_samples=500)\n",
    "labelled_training_data = classifier.process_random_postings()"
   ]
  },
  {
   "cell_type": "code",
   "execution_count": 3,
   "id": "ec69281e",
   "metadata": {},
   "outputs": [
    {
     "ename": "NameError",
     "evalue": "name 'labelled_training_data' is not defined",
     "output_type": "error",
     "traceback": [
      "\u001b[31m---------------------------------------------------------------------------\u001b[39m",
      "\u001b[31mNameError\u001b[39m                                 Traceback (most recent call last)",
      "\u001b[36mCell\u001b[39m\u001b[36m \u001b[39m\u001b[32mIn[3]\u001b[39m\u001b[32m, line 4\u001b[39m\n\u001b[32m      2\u001b[39m output_filename = \u001b[33m'\u001b[39m\u001b[33mgpt_training_data.csv\u001b[39m\u001b[33m'\u001b[39m\n\u001b[32m      3\u001b[39m full_path = os.path.join(output_directory, output_filename)\n\u001b[32m----> \u001b[39m\u001b[32m4\u001b[39m \u001b[43mlabelled_training_data\u001b[49m.to_csv(full_path, index=\u001b[38;5;28;01mFalse\u001b[39;00m) \n",
      "\u001b[31mNameError\u001b[39m: name 'labelled_training_data' is not defined"
     ]
    }
   ],
   "source": [
    "output_directory = '../data'  # Replace with your desired directory\n",
    "output_filename = 'gpt_training_data.csv'\n",
    "full_path = os.path.join(output_directory, output_filename)\n",
    "labelled_training_data.to_csv(full_path, index=False) "
   ]
  }
 ],
 "metadata": {
  "kernelspec": {
   "display_name": "venv",
   "language": "python",
   "name": "python3"
  },
  "language_info": {
   "codemirror_mode": {
    "name": "ipython",
    "version": 3
   },
   "file_extension": ".py",
   "mimetype": "text/x-python",
   "name": "python",
   "nbconvert_exporter": "python",
   "pygments_lexer": "ipython3",
   "version": "3.12.4"
  }
 },
 "nbformat": 4,
 "nbformat_minor": 5
}
