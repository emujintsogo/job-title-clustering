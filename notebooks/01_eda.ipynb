{
 "cells": [
  {
   "cell_type": "markdown",
   "id": "22c66e19",
   "metadata": {},
   "source": [
    "# Data Exploration\n",
    "This notebook provides an overview of our dataset and also how we are cleaning our data."
   ]
  },
  {
   "cell_type": "markdown",
   "id": "8e304c0f",
   "metadata": {},
   "source": [
    "## Imports"
   ]
  },
  {
   "cell_type": "code",
   "execution_count": 1,
   "id": "58a17ff9",
   "metadata": {},
   "outputs": [],
   "source": [
    "import pandas as pd\n",
    "import textwrap\n",
    "import sys\n",
    "sys.path.append(\"../src\")\n",
    "from preprocessing import clean_text"
   ]
  },
  {
   "cell_type": "markdown",
   "id": "590aba6a",
   "metadata": {},
   "source": [
    "## Data Inspection"
   ]
  },
  {
   "cell_type": "markdown",
   "id": "65a9072e",
   "metadata": {},
   "source": [
    "### A look at the raw dataset"
   ]
  },
  {
   "cell_type": "code",
   "execution_count": 2,
   "id": "3faddac7",
   "metadata": {},
   "outputs": [
    {
     "data": {
      "text/html": [
       "<div>\n",
       "<style scoped>\n",
       "    .dataframe tbody tr th:only-of-type {\n",
       "        vertical-align: middle;\n",
       "    }\n",
       "\n",
       "    .dataframe tbody tr th {\n",
       "        vertical-align: top;\n",
       "    }\n",
       "\n",
       "    .dataframe thead th {\n",
       "        text-align: right;\n",
       "    }\n",
       "</style>\n",
       "<table border=\"1\" class=\"dataframe\">\n",
       "  <thead>\n",
       "    <tr style=\"text-align: right;\">\n",
       "      <th></th>\n",
       "      <th>RequisitionID</th>\n",
       "      <th>OrigJobTitle</th>\n",
       "      <th>JobTitle</th>\n",
       "      <th>JobDescription</th>\n",
       "    </tr>\n",
       "  </thead>\n",
       "  <tbody>\n",
       "    <tr>\n",
       "      <th>0</th>\n",
       "      <td>NaN</td>\n",
       "      <td>Licensed Stationary Engineer</td>\n",
       "      <td>ENGINEER (all other)</td>\n",
       "      <td>Licensed Stationary Engineer \\n\\n Froedtert So...</td>\n",
       "    </tr>\n",
       "    <tr>\n",
       "      <th>1</th>\n",
       "      <td>00000224907</td>\n",
       "      <td>Guidance Navigation and Control (GN&amp;C) Enginee...</td>\n",
       "      <td>ENGINEER (all other)</td>\n",
       "      <td>**The Boeing Company**  is in search of a  **L...</td>\n",
       "    </tr>\n",
       "    <tr>\n",
       "      <th>2</th>\n",
       "      <td>00000331804</td>\n",
       "      <td>Propulsion Engineer - Associate, Mid-Level and...</td>\n",
       "      <td>ENGINEER (all other)</td>\n",
       "      <td>**Job Description**\\n\\nAt Boeing, we innovate ...</td>\n",
       "    </tr>\n",
       "    <tr>\n",
       "      <th>3</th>\n",
       "      <td>00000336462</td>\n",
       "      <td>Senior Process Controls Engineer</td>\n",
       "      <td>ENGINEER (all other)</td>\n",
       "      <td>**Job Description**\\n\\nAt Boeing, we innovate ...</td>\n",
       "    </tr>\n",
       "    <tr>\n",
       "      <th>4</th>\n",
       "      <td>00000338951</td>\n",
       "      <td>RF/Microwave Engineer (Level 2 or 3)</td>\n",
       "      <td>ENGINEER (all other)</td>\n",
       "      <td>**Job Description**\\n\\nAt Boeing, we innovate ...</td>\n",
       "    </tr>\n",
       "  </tbody>\n",
       "</table>\n",
       "</div>"
      ],
      "text/plain": [
       "  RequisitionID                                       OrigJobTitle  \\\n",
       "0           NaN                       Licensed Stationary Engineer   \n",
       "1   00000224907  Guidance Navigation and Control (GN&C) Enginee...   \n",
       "2   00000331804  Propulsion Engineer - Associate, Mid-Level and...   \n",
       "3   00000336462                   Senior Process Controls Engineer   \n",
       "4   00000338951               RF/Microwave Engineer (Level 2 or 3)   \n",
       "\n",
       "               JobTitle                                     JobDescription  \n",
       "0  ENGINEER (all other)  Licensed Stationary Engineer \\n\\n Froedtert So...  \n",
       "1  ENGINEER (all other)  **The Boeing Company**  is in search of a  **L...  \n",
       "2  ENGINEER (all other)  **Job Description**\\n\\nAt Boeing, we innovate ...  \n",
       "3  ENGINEER (all other)  **Job Description**\\n\\nAt Boeing, we innovate ...  \n",
       "4  ENGINEER (all other)  **Job Description**\\n\\nAt Boeing, we innovate ...  "
      ]
     },
     "execution_count": 2,
     "metadata": {},
     "output_type": "execute_result"
    }
   ],
   "source": [
    "df = pd.read_csv(\"../Engineer_20230826.csv\")\n",
    "df.head()"
   ]
  },
  {
   "cell_type": "markdown",
   "id": "75777446",
   "metadata": {},
   "source": [
    "### Features of dataset"
   ]
  },
  {
   "cell_type": "code",
   "execution_count": 3,
   "id": "55dd35b8",
   "metadata": {},
   "outputs": [
    {
     "name": "stdout",
     "output_type": "stream",
     "text": [
      "Columns in data set: ['RequisitionID', 'OrigJobTitle', 'JobTitle', 'JobDescription']\n"
     ]
    }
   ],
   "source": [
    "print(f\"Columns in data set: {df.columns.tolist()}\")"
   ]
  },
  {
   "cell_type": "markdown",
   "id": "5ca6b78b",
   "metadata": {},
   "source": [
    "Column Descriptions\n",
    " - RequisitionID - A unique identifier for each job posting in the dataset.\n",
    " - OrigJobTitle - The original job title as listed in the source data.\n",
    " - JobTitle - The only value in this column is \"ENGINEER\" which is not very descriptive.\n",
    " - JobDescription - The full,  text of the job posting, including responsibilities, qualifications, and other details."
   ]
  },
  {
   "cell_type": "markdown",
   "id": "01a5a0e1",
   "metadata": {},
   "source": [
    "### Job titles\n",
    "The output below **demonstrates the use case for this project.** Engineering jobs in the dataset don't have standardized or very clear names, making it difficult for job seekers to distinguish one type of engineer from another or tell exactly what kind of engineer (e.g. aerospace vs. computer) a company is looking for."
   ]
  },
  {
   "cell_type": "code",
   "execution_count": 4,
   "id": "7171fddb",
   "metadata": {},
   "outputs": [
    {
     "data": {
      "text/plain": [
       "78       Materials and Processes Flammability Engineer ...\n",
       "8837                                  Research Engineer iV\n",
       "13055                                     Engineer-Precast\n",
       "8642                          Postgres Automation Engineer\n",
       "16251                           Senior Stationary Engineer\n",
       "12124                                   Service Engineer 1\n",
       "10969                                       Chief Engineer\n",
       "3273                                      Field Engineer I\n",
       "17676    Sr. Principal Aircraft Mechanical Systems (Mec...\n",
       "10117                               Cybersecurity Engineer\n",
       "Name: OrigJobTitle, dtype: object"
      ]
     },
     "execution_count": 4,
     "metadata": {},
     "output_type": "execute_result"
    }
   ],
   "source": [
    "random_job_postings = df.sample(n=10)\n",
    "random_job_postings[\"OrigJobTitle\"]"
   ]
  },
  {
   "cell_type": "markdown",
   "id": "978b218b",
   "metadata": {},
   "source": [
    "### A sample job description\n",
    "Below, the output for the job description at an arbitrary row demonstrates that our job descriptions must be cleaned of newline characters and HTML tags before being processed."
   ]
  },
  {
   "cell_type": "code",
   "execution_count": 5,
   "id": "39c4e2d7",
   "metadata": {},
   "outputs": [
    {
     "name": "stdout",
     "output_type": "stream",
     "text": [
      "The elements in the JobDescription column are of data type: object\n",
      "Job description at col 1000:\n",
      " ATS Company:  PA Solutions \\n\\n Requisition ID:  10392 \\n\\n Location:  \\n\\n Greenville, SC, US, 29615 Lewis Center, OH, US, 43035-9445 Guaynabo, PR, US, 00968-8058 Concord,\n",
      "NH, US, 3811 Indianapolis, IN, US, 46250 Raleigh, NC, US, 27603 \\n\\n Date:  Jul 17, 2023 \\n\\n Automation Engineer \\n\\nJob Description\\n\\nProcess Automation Solutions is one of\n",
      "the leading manufacturer-independent suppliers of complete automation solutions for the process and manufacturing industries. The company currently employs more than1,500\n",
      "people with a global presence in Europe, the Americas, and Asia. Our operational activities focus on the design of process control systems and their vertical integration into\n",
      "the overall business process. We offer complete services from the concept to commissioning, from the field level through process control level to corporate management level.\n",
      "Process Automation Solutions is a company of ATS Corporation.\\n\\nOverview:\\n\\nThis position participates in the design and implementation of complex industrial automation\n",
      "solutions using various technologies and platforms (PLCs, DCS, SCADA, BMS, Edge Devices, MES, Data Management, Vision Systems, Robotics, etc.) for companies in the life\n",
      "sciences and other manufacturing industries.  As an Automation Engineer, you will apply your diverse knowledge of engineering principles and practices to a broad variety of\n",
      "assignments and related fields, making decisions regarding engineering complexities and methods.  This role operates within a multidisciplinary team that integrates technology\n",
      "and business expertise to deliver professional solutions.\\n\\nEssential Job Functions:\\n\\n-    Perform site surveys and support requirements definition.\\n\\n-    Design,\n",
      "develop, and implement process, utility and building control systems in support of manufacturing operations.\\n\\n-    Support the project team with the development of\n",
      "functional specifications and detailed design specifications for hardware and software system solutions. \\n\\n-    Support the development of the required test plan, test\n",
      "scripts, test protocols, and test reports. \\n\\n-    Build and qualify software development and production system environments.\\n\\n-    Perform the installation and start-up of\n",
      "systems or applications, remotely or at the customer site.\\n\\n-    Execute testing and qualification activities in respect to the industry rules and regulations.\\n\\n-\n",
      "Report to the Team Lead on project progress and issues. \\n\\n-    Provide post implementation support and training to clients.\\n\\n-    Complete all required assigned trainings.\n",
      "\\n\\n-    Other duties as assigned.\\n\\nAdditional Information\\n\\n    Associate's Degree in Computer Science or Engineering and two years related experience; or equivalent\n",
      "combination of education and experience.\\n\\n    Technical knowledge and practical experience with at least one industrial platform solution from Rockwell, Aveva or\n",
      "Siemens.\\n\\n    Familiar with agile software development methodologies (processes and standards). \\n\\n    Knowledgeable in relational databases and programming languages such\n",
      "as Ladder Logic, Functional Block Diagram, Structured Text, Python, C#/C++, MS SQL, etc.\\n\\n    Strong analytical and troubleshooting skills.\\n\\n    Excellent oral and written\n",
      "communication skills.\\n\\n    Must be able to read, write, speak, and understand English.\\n\\n    Ability to travel up to 15% of the time; or as needed.\\n\\nPreferred\n",
      "Qualifications:\\n\\n    Bachelor's Degree in Computer Science or Engineering and two years related experience.\\n\\n    Experience with the design and deployment of industrial\n",
      "network infrastructure and IIoT solutions.\\n\\n    Experience with regulated industry requirements.\\n\\n    Formal certification in a related industrial platform (Rockwell,\n",
      "Aveva, or Siemens).\\n\\nResponsibilities for Health, Safety and Environment:\\n\\n    Work in compliance with divisional health, safety, and environmental procedures.\\n\\n\n",
      "Refrain from removing or altering safety devices or guarding unless hazardous energies are controlled through lockout-tagout methods.\\n\\n    Report any unsafe conditions or\n",
      "unsafe acts. \\n\\n    Report defects in any equipment or protective device.\\n\\n    Ensure that the required protective equipment is used for the assigned tasks.\\n\\n    Attend\n",
      "all required health, safety, and environmental training.\\n\\n    Report any accidents/incidents to supervisor.\\n\\n    Assist in investigating accidents/incidents.\\n\\n\n",
      "Refrain from engaging in any prank, contest, feat of strength, unnecessary running, or rough and boisterous conduct.\\n\\nPhysical Requirements:\\n\\n    Must be able to travel up\n",
      "to 15%; or as needed.\\n\\n    Sitting for extended periods of time at a desk or table.\\n\\n    Working on computer and related peripherals 90% of the time.\\n\\n    Hearing and\n",
      "speaking to exchange information to work with team members and clients - in person, on the phone, or via virtual calls.\\n\\n    Seeing to read and write, exchange emails,\n",
      "conduct work, and prepare documents and reports.\\n\\nProcess Automation Solutions is committed to the full inclusion of all qualified individuals. In keeping with our\n",
      "commitment, Process Automation Solutions will take steps to assure that people with disabilities are provided reasonable accommodation. Accordingly, if reasonable\n",
      "accommodation is required to fully participate in the job application or interview process, to perform the essential functions of the position, and/or to receive all other\n",
      "benefits and privileges of employment, please contact jonathan.kennedy@pa-ats.com\\n\\nThis job description is not an exhaustive list of all possible responsibilities, duties,\n",
      "or tasks.  <script id=detrack defer src=https://d2e48ltfsb5exy.cloudfront.net/p/t.js?i=0,1 data-g=801ee9930af846d8bdeca096e8723a331691></script>\n"
     ]
    }
   ],
   "source": [
    "print(f\"The elements in the JobDescription column are of data type: {df['JobDescription'].dtype}\")\n",
    "\n",
    "def print_job_desc(col: int):\n",
    "    job_desc = df.iat[col, 3]\n",
    "    print(f\"Job description at col {col}:\\n {textwrap.fill(job_desc, width=175)}\")\n",
    "\n",
    "print_job_desc(col=1000)"
   ]
  },
  {
   "cell_type": "markdown",
   "id": "e86656ce",
   "metadata": {},
   "source": [
    "### Checking for Missing or Messy Data"
   ]
  },
  {
   "cell_type": "code",
   "execution_count": 6,
   "id": "42dbce2b",
   "metadata": {},
   "outputs": [
    {
     "name": "stdout",
     "output_type": "stream",
     "text": [
      "There are 0 empty or whitespace job descriptions.\n"
     ]
    }
   ],
   "source": [
    "mask = df[\"JobDescription\"].isna() | (df[\"JobDescription\"].str.strip() == \"\")\n",
    "num_blank = mask.sum()\n",
    "print(f\"There are {num_blank} empty or whitespace job descriptions.\")"
   ]
  },
  {
   "cell_type": "code",
   "execution_count": 7,
   "id": "acfc277c",
   "metadata": {},
   "outputs": [
    {
     "data": {
      "text/plain": [
       "RequisitionID     1\n",
       "OrigJobTitle      0\n",
       "JobTitle          0\n",
       "JobDescription    0\n",
       "dtype: int64"
      ]
     },
     "execution_count": 7,
     "metadata": {},
     "output_type": "execute_result"
    }
   ],
   "source": [
    "df.isna().sum()"
   ]
  },
  {
   "cell_type": "markdown",
   "id": "42cdb8c3",
   "metadata": {},
   "source": [
    "## Cleaning the dataset\n",
    "The clean_text function we wrote cleans job descriptions of any HTML tags, markdown, string literals, and unnecessary whitespace.\n",
    "\n",
    "Here's an example:"
   ]
  },
  {
   "cell_type": "code",
   "execution_count": 8,
   "id": "f7a1628f",
   "metadata": {},
   "outputs": [
    {
     "name": "stdout",
     "output_type": "stream",
     "text": [
      "Job description at col 1000:\n",
      " ATS Company: PA Solutions Requisition ID: 10392 Location: Greenville, SC, US, 29615 Lewis Center, OH, US, 43035-9445 Guaynabo, PR, US, 00968-8058 Concord, NH, US, 3811\n",
      "Indianapolis, IN, US, 46250 Raleigh, NC, US, 27603 Date: Jul 17, 2023 Automation Engineer Job Description Process Automation Solutions is one of the leading manufacturer-\n",
      "independent suppliers of complete automation solutions for the process and manufacturing industries. The company currently employs more than1,500 people with a global presence\n",
      "in Europe, the Americas, and Asia. Our operational activities focus on the design of process control systems and their vertical integration into the overall business process.\n",
      "We offer complete services from the concept to commissioning, from the field level through process control level to corporate management level. Process Automation Solutions is\n",
      "a company of ATS Corporation. Overview: This position participates in the design and implementation of complex industrial automation solutions using various technologies and\n",
      "platforms (PLCs, DCS, SCADA, BMS, Edge Devices, MES, Data Management, Vision Systems, Robotics, etc.) for companies in the life sciences and other manufacturing industries. As\n",
      "an Automation Engineer, you will apply your diverse knowledge of engineering principles and practices to a broad variety of assignments and related fields, making decisions\n",
      "regarding engineering complexities and methods. This role operates within a multidisciplinary team that integrates technology and business expertise to deliver professional\n",
      "solutions. Essential Job Functions: - Perform site surveys and support requirements definition. - Design, develop, and implement process, utility and building control systems\n",
      "in support of manufacturing operations. - Support the project team with the development of functional specifications and detailed design specifications for hardware and\n",
      "software system solutions. - Support the development of the required test plan, test scripts, test protocols, and test reports. - Build and qualify software development and\n",
      "production system environments. - Perform the installation and start-up of systems or applications, remotely or at the customer site. - Execute testing and qualification\n",
      "activities in respect to the industry rules and regulations. - Report to the Team Lead on project progress and issues. - Provide post implementation support and training to\n",
      "clients. - Complete all required assigned trainings. - Other duties as assigned. Additional Information Associate's Degree in Computer Science or Engineering and two years\n",
      "related experience; or equivalent combination of education and experience. Technical knowledge and practical experience with at least one industrial platform solution from\n",
      "Rockwell, Aveva or Siemens. Familiar with agile software development methodologies (processes and standards). Knowledgeable in relational databases and programming languages\n",
      "such as Ladder Logic, Functional Block Diagram, Structured Text, Python, C#/C++, MS SQL, etc. Strong analytical and troubleshooting skills. Excellent oral and written\n",
      "communication skills. Must be able to read, write, speak, and understand English. Ability to travel up to 15% of the time; or as needed. Preferred Qualifications: Bachelor's\n",
      "Degree in Computer Science or Engineering and two years related experience. Experience with the design and deployment of industrial network infrastructure and IIoT solutions.\n",
      "Experience with regulated industry requirements. Formal certification in a related industrial platform (Rockwell, Aveva, or Siemens). Responsibilities for Health, Safety and\n",
      "Environment: Work in compliance with divisional health, safety, and environmental procedures. Refrain from removing or altering safety devices or guarding unless hazardous\n",
      "energies are controlled through lockout-tagout methods. Report any unsafe conditions or unsafe acts. Report defects in any equipment or protective device. Ensure that the\n",
      "required protective equipment is used for the assigned tasks. Attend all required health, safety, and environmental training. Report any accidents/incidents to supervisor.\n",
      "Assist in investigating accidents/incidents. Refrain from engaging in any prank, contest, feat of strength, unnecessary running, or rough and boisterous conduct. Physical\n",
      "Requirements: Must be able to travel up to 15%; or as needed. Sitting for extended periods of time at a desk or table. Working on computer and related peripherals 90% of the\n",
      "time. Hearing and speaking to exchange information to work with team members and clients - in person, on the phone, or via virtual calls. Seeing to read and write, exchange\n",
      "emails, conduct work, and prepare documents and reports. Process Automation Solutions is committed to the full inclusion of all qualified individuals. In keeping with our\n",
      "commitment, Process Automation Solutions will take steps to assure that people with disabilities are provided reasonable accommodation. Accordingly, if reasonable\n",
      "accommodation is required to fully participate in the job application or interview process, to perform the essential functions of the position, and/or to receive all other\n",
      "benefits and privileges of employment, please contact jonathan.kennedy@pa-ats.com This job description is not an exhaustive list of all possible responsibilities, duties, or\n",
      "tasks.\n"
     ]
    }
   ],
   "source": [
    "df['JobDescription'] = df['JobDescription'].apply(clean_text)\n",
    "print_job_desc(1000)"
   ]
  }
 ],
 "metadata": {
  "kernelspec": {
   "display_name": "venv",
   "language": "python",
   "name": "python3"
  },
  "language_info": {
   "codemirror_mode": {
    "name": "ipython",
    "version": 3
   },
   "file_extension": ".py",
   "mimetype": "text/x-python",
   "name": "python",
   "nbconvert_exporter": "python",
   "pygments_lexer": "ipython3",
   "version": "3.13.1"
  }
 },
 "nbformat": 4,
 "nbformat_minor": 5
}
